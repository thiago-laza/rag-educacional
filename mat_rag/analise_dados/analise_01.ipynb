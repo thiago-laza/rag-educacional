{
 "cells": [
  {
   "cell_type": "code",
   "execution_count": 2,
   "id": "db40e8e7",
   "metadata": {},
   "outputs": [
    {
     "name": "stdout",
     "output_type": "stream",
     "text": [
      "nivel_classificacao\n",
      "0     1\n",
      "1    12\n",
      "3    16\n",
      "Name: count, dtype: int64\n",
      "nivel_classificacao\n",
      "0     3.448276\n",
      "1    41.379310\n",
      "3    55.172414\n",
      "Name: proportion, dtype: float64\n",
      "Média do nível: 2.0689655172413794\n"
     ]
    }
   ],
   "source": [
    "import pandas as pd\n",
    "\n",
    "df = pd.read_csv(\"respostas_classificadas.csv\")\n",
    "\n",
    "# Frequência por nível\n",
    "print(df[\"nivel_classificacao\"].value_counts().sort_index())\n",
    "\n",
    "# Porcentagem\n",
    "print(df[\"nivel_classificacao\"].value_counts(normalize=True).sort_index() * 100)\n",
    "\n",
    "# Média geral do nível\n",
    "print(\"Média do nível:\", df[\"nivel_classificacao\"].mean())\n"
   ]
  },
  {
   "cell_type": "code",
   "execution_count": 3,
   "id": "d05e853f",
   "metadata": {},
   "outputs": [
    {
     "data": {
      "image/png": "[encoded data removed]",
      "text/plain": [
       "<Figure size 640x480 with 1 Axes>"
      ]
     },
     "metadata": {},
     "output_type": "display_data"
    }
   ],
   "source": [
    "import seaborn as sns\n",
    "import matplotlib.pyplot as plt\n",
    "\n",
    "# Gráfico de barras de frequência por nível\n",
    "sns.countplot(x=\"nivel_classificacao\", data=df)\n",
    "plt.title(\"Distribuição dos Níveis de Classificação\")\n",
    "plt.xlabel(\"Nível de Classificação\")\n",
    "plt.ylabel(\"Número de Estudantes\")\n",
    "plt.show()\n"
   ]
  },
  {
   "cell_type": "code",
   "execution_count": 4,
   "id": "1a89541c",
   "metadata": {},
   "outputs": [
    {
     "name": "stdout",
     "output_type": "stream",
     "text": [
      "              precision    recall  f1-score   support\n",
      "\n",
      "           0       0.00      0.00      0.00         1\n",
      "           1       1.00      0.33      0.50         3\n",
      "           3       0.40      1.00      0.57         2\n",
      "\n",
      "    accuracy                           0.50         6\n",
      "   macro avg       0.47      0.44      0.36         6\n",
      "weighted avg       0.63      0.50      0.44         6\n",
      "\n"
     ]
    },
    {
     "name": "stderr",
     "output_type": "stream",
     "text": [
      "/home/laza/chat_RAG_hf/api/venv_api_chat/lib/python3.12/site-packages/sklearn/metrics/_classification.py:1565: UndefinedMetricWarning: Precision is ill-defined and being set to 0.0 in labels with no predicted samples. Use `zero_division` parameter to control this behavior.\n",
      "  _warn_prf(average, modifier, f\"{metric.capitalize()} is\", len(result))\n",
      "/home/laza/chat_RAG_hf/api/venv_api_chat/lib/python3.12/site-packages/sklearn/metrics/_classification.py:1565: UndefinedMetricWarning: Precision is ill-defined and being set to 0.0 in labels with no predicted samples. Use `zero_division` parameter to control this behavior.\n",
      "  _warn_prf(average, modifier, f\"{metric.capitalize()} is\", len(result))\n",
      "/home/laza/chat_RAG_hf/api/venv_api_chat/lib/python3.12/site-packages/sklearn/metrics/_classification.py:1565: UndefinedMetricWarning: Precision is ill-defined and being set to 0.0 in labels with no predicted samples. Use `zero_division` parameter to control this behavior.\n",
      "  _warn_prf(average, modifier, f\"{metric.capitalize()} is\", len(result))\n"
     ]
    }
   ],
   "source": [
    "from sklearn.feature_extraction.text import TfidfVectorizer\n",
    "from sklearn.ensemble import RandomForestClassifier\n",
    "from sklearn.model_selection import train_test_split\n",
    "from sklearn.metrics import classification_report\n",
    "\n",
    "# Combinar todas as colunas textuais\n",
    "df[\"texto_completo\"] = df[[\"interpretacao\", \"estrategia\", \"calculos\", \"resposta_final\"]].fillna(\"\").agg(\" \".join, axis=1)\n",
    "\n",
    "# Vetorização\n",
    "vectorizer = TfidfVectorizer()\n",
    "X = vectorizer.fit_transform(df[\"texto_completo\"])\n",
    "y = df[\"nivel_classificacao\"]\n",
    "\n",
    "# Treinar modelo simples\n",
    "X_train, X_test, y_train, y_test = train_test_split(X, y, test_size=0.2, random_state=42)\n",
    "modelo = RandomForestClassifier()\n",
    "modelo.fit(X_train, y_train)\n",
    "\n",
    "# Avaliação\n",
    "y_pred = modelo.predict(X_test)\n",
    "print(classification_report(y_test, y_pred))\n"
   ]
  }
 ],
 "metadata": {
  "kernelspec": {
   "display_name": "venv_api_chat",
   "language": "python",
   "name": "python3"
  },
  "language_info": {
   "codemirror_mode": {
    "name": "ipython",
    "version": 3
   },
   "file_extension": ".py",
   "mimetype": "text/x-python",
   "name": "python",
   "nbconvert_exporter": "python",
   "pygments_lexer": "ipython3",
   "version": "3.12.3"
  }
 },
 "nbformat": 4,
 "nbformat_minor": 5
}
