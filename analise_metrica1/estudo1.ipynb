{
 "cells": [
  {
   "cell_type": "code",
   "execution_count": 1,
   "id": "e472949d",
   "metadata": {},
   "outputs": [],
   "source": [
    "import pandas as pd\n",
    "import os"
   ]
  },
  {
   "cell_type": "code",
   "execution_count": 2,
   "id": "6d217139",
   "metadata": {},
   "outputs": [],
   "source": [
    "# Define o caminho para a pasta de datasets\n",
    "caminho_datasets = \"datasets_classificados\"\n",
    "nome_arquivo = \"dataset_classificado_6_ano.csv\""
   ]
  },
  {
   "cell_type": "code",
   "execution_count": 3,
   "id": "94eeb81c",
   "metadata": {},
   "outputs": [],
   "source": [
    "# Carrega o dataset para um DataFrame do Pandas\n",
    "caminho_completo = os.path.join(caminho_datasets, nome_arquivo)\n",
    "df = pd.read_csv(caminho_completo)"
   ]
  },
  {
   "cell_type": "code",
   "execution_count": 4,
   "id": "54be7394",
   "metadata": {},
   "outputs": [
    {
     "name": "stdout",
     "output_type": "stream",
     "text": [
      "Primeiras 5 linhas do DataFrame:\n"
     ]
    },
    {
     "data": {
      "text/html": [
       "<div>\n",
       "<style scoped>\n",
       "    .dataframe tbody tr th:only-of-type {\n",
       "        vertical-align: middle;\n",
       "    }\n",
       "\n",
       "    .dataframe tbody tr th {\n",
       "        vertical-align: top;\n",
       "    }\n",
       "\n",
       "    .dataframe thead th {\n",
       "        text-align: right;\n",
       "    }\n",
       "</style>\n",
       "<table border=\"1\" class=\"dataframe\">\n",
       "  <thead>\n",
       "    <tr style=\"text-align: right;\">\n",
       "      <th></th>\n",
       "      <th>aluno_id</th>\n",
       "      <th>nome_aluno</th>\n",
       "      <th>questao_id</th>\n",
       "      <th>resposta_aluno</th>\n",
       "      <th>classificacao</th>\n",
       "    </tr>\n",
       "  </thead>\n",
       "  <tbody>\n",
       "    <tr>\n",
       "      <th>0</th>\n",
       "      <td>ALUNO_6_1</td>\n",
       "      <td>Estudante 1</td>\n",
       "      <td>Q1</td>\n",
       "      <td>Não respondeu.</td>\n",
       "      <td>Incorreto</td>\n",
       "    </tr>\n",
       "    <tr>\n",
       "      <th>1</th>\n",
       "      <td>ALUNO_6_1</td>\n",
       "      <td>Estudante 1</td>\n",
       "      <td>Q2</td>\n",
       "      <td>Não respondeu.</td>\n",
       "      <td>Incorreto</td>\n",
       "    </tr>\n",
       "    <tr>\n",
       "      <th>2</th>\n",
       "      <td>ALUNO_6_1</td>\n",
       "      <td>Estudante 1</td>\n",
       "      <td>Q3</td>\n",
       "      <td>Para saber o total de pés de milho plantados, ...</td>\n",
       "      <td>Parcialmente Correto</td>\n",
       "    </tr>\n",
       "    <tr>\n",
       "      <th>3</th>\n",
       "      <td>ALUNO_6_1</td>\n",
       "      <td>Estudante 1</td>\n",
       "      <td>Q4</td>\n",
       "      <td>Para calcular o total de filhotes nascidos, so...</td>\n",
       "      <td>Correto</td>\n",
       "    </tr>\n",
       "    <tr>\n",
       "      <th>4</th>\n",
       "      <td>ALUNO_6_1</td>\n",
       "      <td>Estudante 1</td>\n",
       "      <td>Q5</td>\n",
       "      <td>Para obter o número total de ingressos, somei ...</td>\n",
       "      <td>Parcialmente Correto</td>\n",
       "    </tr>\n",
       "  </tbody>\n",
       "</table>\n",
       "</div>"
      ],
      "text/plain": [
       "    aluno_id   nome_aluno questao_id  \\\n",
       "0  ALUNO_6_1  Estudante 1         Q1   \n",
       "1  ALUNO_6_1  Estudante 1         Q2   \n",
       "2  ALUNO_6_1  Estudante 1         Q3   \n",
       "3  ALUNO_6_1  Estudante 1         Q4   \n",
       "4  ALUNO_6_1  Estudante 1         Q5   \n",
       "\n",
       "                                      resposta_aluno         classificacao  \n",
       "0                                     Não respondeu.             Incorreto  \n",
       "1                                     Não respondeu.             Incorreto  \n",
       "2  Para saber o total de pés de milho plantados, ...  Parcialmente Correto  \n",
       "3  Para calcular o total de filhotes nascidos, so...               Correto  \n",
       "4  Para obter o número total de ingressos, somei ...  Parcialmente Correto  "
      ]
     },
     "metadata": {},
     "output_type": "display_data"
    }
   ],
   "source": [
    "# Exibe as primeiras 5 linhas do DataFrame para inspeção\n",
    "print(\"Primeiras 5 linhas do DataFrame:\")\n",
    "display(df.head())"
   ]
  }
 ],
 "metadata": {
  "kernelspec": {
   "display_name": "venv_rag (3.13.0)",
   "language": "python",
   "name": "python3"
  },
  "language_info": {
   "codemirror_mode": {
    "name": "ipython",
    "version": 3
   },
   "file_extension": ".py",
   "mimetype": "text/x-python",
   "name": "python",
   "nbconvert_exporter": "python",
   "pygments_lexer": "ipython3",
   "version": "3.13.0"
  }
 },
 "nbformat": 4,
 "nbformat_minor": 5
}
